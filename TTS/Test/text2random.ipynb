{
 "metadata": {
  "language_info": {
   "codemirror_mode": {
    "name": "ipython",
    "version": 3
   },
   "file_extension": ".py",
   "mimetype": "text/x-python",
   "name": "python",
   "nbconvert_exporter": "python",
   "pygments_lexer": "ipython3",
   "version": "3.8.8-final"
  },
  "orig_nbformat": 2,
  "kernelspec": {
   "name": "python3",
   "display_name": "Python 3"
  }
 },
 "nbformat": 4,
 "nbformat_minor": 2,
 "cells": [
  {
   "cell_type": "code",
   "execution_count": 11,
   "metadata": {},
   "outputs": [],
   "source": [
    "import torch\n",
    "import pandas as pd"
   ]
  },
  {
   "cell_type": "code",
   "execution_count": 12,
   "metadata": {},
   "outputs": [],
   "source": [
    "data_path = \"../Data/LJSpeech/\""
   ]
  },
  {
   "source": [
    "The Code below is creating the key value pair for the file name to the text input. "
   ],
   "cell_type": "markdown",
   "metadata": {}
  },
  {
   "cell_type": "code",
   "execution_count": 14,
   "metadata": {},
   "outputs": [],
   "source": [
    "raw_str = pd.read_csv(data_path + \"metadata.csv\", header=None, sep='\\n')"
   ]
  },
  {
   "cell_type": "code",
   "execution_count": 57,
   "metadata": {
    "tags": []
   },
   "outputs": [],
   "source": [
    "raw_list = []\n",
    "for line in raw_str.iterrows():\n",
    "    raw_list.append(line[1].values[0].split(\"|\"))"
   ]
  },
  {
   "cell_type": "code",
   "execution_count": 65,
   "metadata": {},
   "outputs": [
    {
     "output_type": "execute_result",
     "data": {
      "text/plain": [
       "13100"
      ]
     },
     "metadata": {},
     "execution_count": 65
    }
   ],
   "source": [
    "len(raw_list)"
   ]
  },
  {
   "cell_type": "code",
   "execution_count": 64,
   "metadata": {
    "tags": [
     "outputPrepend"
    ]
   },
   "outputs": [
    {
     "output_type": "stream",
     "name": "stdout",
     "text": [
      "Hosty reopened the case in Dallas to assist the New Orleans office.']\n",
      "['LJ047-0139', \"The next word about Oswald's location was a communication from the CIA to the FBI on October 10,\", \"The next word about Oswald's location was a communication from the CIA to the FBI on October ten,\"]\n",
      "['LJ047-0141', 'in early October of 1963.', 'in early October of nineteen sixty-three.']\n",
      "['LJ047-0146', 'that he had sought and obtained a passport on June 25, 1963.', 'that he had sought and obtained a passport on June twenty-five, nineteen sixty-three.']\n",
      "['LJ047-0148', 'On October 25,', 'On October twenty-five,']\n",
      "['LJ047-0149', 'the New Orleans office of the FBI learned that in September Oswald had given a forwarding address of 2515', 'the New Orleans office of the FBI learned that in September Oswald had given a forwarding address of two five one five']\n",
      "['LJ047-0150', 'West Fifth Street, Irving, Texas. After receiving this information on October 29, Agent Hosty attempted to locate Oswald.', 'West Fifth Street, Irving, Texas. After receiving this information on October twenty-nine, Agent Hosty attempted to locate Oswald.']\n",
      "['LJ047-0153', 'Having determined that Mrs. Paine was a responsible and reliable citizen, Hosty interviewed her on November 1.', 'Having determined that Mrs. Paine was a responsible and reliable citizen, Hosty interviewed her on November one.']\n",
      "['LJ047-0154', \"The interview lasted about 20 to 25 minutes. In response to Hosty's inquiries, Mrs. Paine, quote,\", \"The interview lasted about twenty to twenty-five minutes. In response to Hosty's inquiries, Mrs. Paine, quote,\"]\n",
      "['LJ047-0160', 'found it to be 411 Elm Street. End quote.', 'found it to be four one one Elm  Street. End quote.']\n",
      "['LJ047-0167', 'On November 4, Hosty telephoned the Texas School Book Depository and learned that Oswald was working there', 'On November four, Hosty telephoned the Texas School Book Depository and learned that Oswald was working there']\n",
      "['LJ047-0170', \"On November 5, Hosty was traveling near Mrs. Paine's home and took the occasion to stop by to ask whether she had any further information.\", \"On November five, Hosty was traveling near Mrs. Paine's home and took the occasion to stop by to ask whether she had any further information.\"]\n",
      "['LJ047-0176', 'shortly after Oswald rented the room on October 14.', 'shortly after Oswald rented the room on October fourteen.']\n",
      "['LJ047-0177', 'As discussed in chapter 6, she failed to report this to Agent Hosty', 'As discussed in chapter six, she failed to report this to Agent Hosty']\n",
      "['LJ047-0179', 'Hosty did nothing further in connection with the Oswald case until after the assassination. On November 1, 1963,', 'Hosty did nothing further in connection with the Oswald case until after the assassination. On November one, nineteen sixty-three,']\n",
      "['LJ047-0180', \"he had received a copy of the report of the New Orleans office which contained Agent Quigley's memorandum of the interview in the New Orleans jail on August 10,\", \"he had received a copy of the report of the New Orleans office which contained Agent Quigley's memorandum of the interview in the New Orleans jail on August ten,\"]\n",
      "['LJ047-0184', 'Well, as I had previously stated, I have between 25 and 40 cases assigned to me at any one time. I had other matters to take care of.', 'Well, as I had previously stated, I have between twenty-five and forty cases assigned to me at any one time. I had other matters to take care of.']\n",
      "['LJ047-0190', 'Question: Did you take any action on this case between November 5 and November 22? Answer: No, sir.', 'Question: Did you take any action on this case between November five and November twenty-two? Answer: No, sir.']\n",
      "['LJ047-0191', \"The official Bureau files confirm Hosty's statement that from November 5 until the assassination, no active investigation was conducted.\", \"The official Bureau files confirm Hosty's statement that from November five until the assassination, no active investigation was conducted.\"]\n",
      "['LJ047-0192', 'On November 18 the FBI learned that Oswald recently had been in communication with the Soviet Embassy in Washington', 'On November eighteen the FBI learned that Oswald recently had been in communication with the Soviet Embassy in Washington']\n",
      "['LJ047-0194', 'Hosty received this information on the afternoon of November 22, 1963.', 'Hosty received this information on the afternoon of November twenty-two, nineteen sixty-three.']\n",
      "['LJ047-0218', \"had discussed the President's visit on several occasions, including the regular biweekly conference on the morning of November 22\", \"had discussed the President's visit on several occasions, including the regular biweekly conference on the morning of November twenty-two\"]\n",
      "['LJ047-0225', 'Hosty testified that he did not know until the evening of Thursday, November 21, that there was to be a motorcade, however,', 'Hosty testified that he did not know until the evening of Thursday, November twenty-one, that there was to be a motorcade, however,']\n",
      "['LJ048-0002', 'Chapter 8. The Protection of the President. Part 3.', 'Chapter eight. The Protection of the President. Part three.']\n",
      "['LJ048-0011', 'Neither believed that the Bureau investigation of him up to November 22 revealed any information which would have justified referral to the Secret Service.', 'Neither believed that the Bureau investigation of him up to November twenty-two revealed any information which would have justified referral to the Secret Service.']\n",
      "['LJ048-0033', 'Prior to November 22, 1963', 'Prior to November twenty-two, nineteen sixty-three']\n",
      "['LJ048-0035', 'It was against this background and consistent with the criteria followed by the FBI prior to November 22', 'It was against this background and consistent with the criteria followed by the FBI prior to November twenty-two']\n",
      "['LJ048-0041', '636,371 investigative matters during fiscal year 1963', 'six hundred thirty-six thousand, three hundred seventy-one investigative matters during fiscal year nineteen sixty-three']\n",
      "['LJ048-0057', 'there might conceivably have been additional investigation of the Oswald case between November 5 and November 22.', 'there might conceivably have been additional investigation of the Oswald case between November five and November twenty-two.']\n",
      "['LJ048-0083', 'were discussed twice officially by the special agent in charge of the FBI office in Dallas. As discussed in chapter 2,', 'were discussed twice officially by the special agent in charge of the FBI office in Dallas. As discussed in chapter two,']\n",
      "['LJ048-0089', 'Against the background of the critical events of November 22, however,', 'Against the background of the critical events of November twenty-two, however,']\n",
      "['LJ048-0092', 'The advance preparations in Dallas by Agent Winston G. Lawson of the White House detail have been described in chapter 2.', 'The advance preparations in Dallas by Agent Winston G. Lawson of the White House detail have been described in chapter two.']\n",
      "['LJ048-0099', 'Agent Lawson did the advance work alone from November 13 to November 18, when he was joined by Agent David B. Grant,', 'Agent Lawson did the advance work alone from November thirteen to November eighteen, when he was joined by Agent David B. Grant,']\n",
      "['LJ048-0123', \"Agent Lawson's interim report was received by Agent Kellerman on November 20, the day before departure on the Texas trip.\", \"Agent Lawson's interim report was received by Agent Kellerman on November twenty, the day before departure on the Texas trip.\"]\n",
      "['LJ048-0127', 'as those followed in 1936 during a trip to Dallas by President Roosevelt,', 'as those followed in nineteen thirty-six during a trip to Dallas by President Roosevelt,']\n",
      "['LJ048-0139', 'The Service had 28 agents participating in the Dallas visit.', 'The Service had twenty-eight agents participating in the Dallas visit.']\n",
      "['LJ048-0140', \"Agent Lawson's advance planning called for the deployment of almost 600 members of the Dallas Police Department,\", \"Agent Lawson's advance planning called for the deployment of almost six hundred members of the Dallas Police Department,\"]\n",
      "['LJ048-0154', 'as discussed in chapter 3.', 'as discussed in chapter three.']\n",
      "['LJ048-0194', 'during the morning of November 22 prior to the motorcade.', 'during the morning of November twenty-two prior to the motorcade.']\n",
      "['LJ048-0220', 'Conduct of Secret Service agents in Fort Worth on November 22.', 'Conduct of Secret Service agents in Fort Worth on November twenty-two.']\n",
      "['LJ048-0221', 'In the early morning hours on November 22, 1963,', 'In the early morning hours on November twenty-two, nineteen sixty-three,']\n",
      "['LJ048-0231', 'According to their statements, the agents remained at the Press Club for periods varying from 30 minutes to an hour and a half,', 'According to their statements, the agents remained at the Press Club for periods varying from thirty minutes to an hour and a half,']\n",
      "['LJ048-0232', 'and the last agent left the Press Club by 2 a.m.', 'and the last agent left the Press Club by two a.m.']\n",
      "['LJ048-0237', 'Most of the agents were there from about 1:30 or 1:45 a.m. to about 2:45 or 3 a.m.;', 'Most of the agents were there from about one:thirty or one:forty-five a.m. to about two:forty-five or three a.m.;']\n",
      "['LJ048-0238', 'one agent was there from 2 until 5 a.m.', 'one agent was there from two until five a.m.']\n",
      "['LJ048-0240', 'by members of the midnight to 8 a.m. shift of the White House detail.', 'by members of the midnight to eight a.m. shift of the White House detail.']\n",
      "['LJ048-0247', 'had duty assignments beginning no later than 8 a.m. that morning.', 'had duty assignments beginning no later than eight a.m. that morning.']\n",
      "['LJ048-0248', 'President Kennedy was scheduled to speak across the street from his hotel in Fort Worth at 8:30 a.m.', 'President Kennedy was scheduled to speak across the street from his hotel in Fort Worth at eight:thirty a.m.']\n",
      "['LJ048-0275', 'to an inference that the violation of the regulation had contributed to the tragic events of November 22.', 'to an inference that the violation of the regulation had contributed to the tragic events of November twenty-two.']\n",
      "['LJ049-0003', 'Chapter 8. The Protection of the President. Part 4.', 'Chapter eight. The Protection of the President. Part four.']\n",
      "['LJ049-0011', 'As described in chapter 2, the President directed that his car stop on two occasions during the motorcade so that he could greet members of the public.', 'As described in chapter two, the President directed that his car stop on two occasions during the motorcade so that he could greet members of the public.']\n",
      "['LJ049-0019', 'The last Presidential vehicle with any protection against small-arms fire left the White House in 1953.', 'The last Presidential vehicle with any protection against small-arms fire left the White House in nineteen fifty-three.']\n",
      "['LJ049-0031', 'The Presidential vehicle in use in Dallas, described in chapter 2,', 'The Presidential vehicle in use in Dallas, described in chapter two,']\n",
      "['LJ049-0035', 'However, such access to the President was interfered with both by the metal bar some 15 inches above the back of the front seat', 'However, such access to the President was interfered with both by the metal bar some fifteen inches above the back of the front seat']\n",
      "['LJ049-0047', 'reveals that Hill first placed his hand on the Presidential car at frame 343, 30 frames', 'reveals that Hill first placed his hand on the Presidential car at frame three forty-three, thirty frames']\n",
      "['LJ049-0048', 'and therefore approximately 1.6 seconds after the President was shot in the head.', 'and therefore approximately one point six seconds after the President was shot in the head.']\n",
      "['LJ049-0049', 'About 3.7 seconds after the President received this wound,', 'About three point seven seconds after the President received this wound,']\n",
      "['LJ049-0098', 'In 1902 bills passed both Houses of Congress but failed of enactment when the Senate refused to accept the conference report.', 'In nineteen oh two bills passed both Houses of Congress but failed of enactment when the Senate refused to accept the conference report.']\n",
      "['LJ049-0113', 'This point was ably made in the 1902 debate by Senator George F. Hoar, the sponsor of the Senate bill, quote,', 'This point was ably made in the nineteen oh two debate by Senator George F. Hoar, the sponsor of the Senate bill, quote,']\n",
      "['LJ049-0153', 'The Secret Service was organized as a division of the Department of the Treasury in 1865, to deal with counterfeiting.', 'The Secret Service was organized as a division of the Department of the Treasury in eighteen sixty-five, to deal with counterfeiting.']\n",
      "['LJ049-0154', 'In 1894,', 'In eighteen ninety-four,']\n",
      "['LJ049-0158', 'These informal and part-time arrangements led to more systematic protection in 1902, after the assassination of President McKinley;', 'These informal and part-time arrangements led to more systematic protection in nineteen oh two, after the assassination of President McKinley;']\n",
      "['LJ049-0163', 'the FBI, which was established within the Department of Justice in 1908, has had in recent years an increasingly important role to play.', 'the FBI, which was established within the Department of Justice in nineteen oh eight, has had in recent years an increasingly important role to play.']\n",
      "['LJ049-0165', 'which first appeared in the appropriation of the Department of Justice in 1910 under the heading, quote, Miscellaneous Objects, end quote.', 'which first appeared in the appropriation of the Department of Justice in nineteen ten under the heading, quote, Miscellaneous Objects, end quote.']\n",
      "['LJ049-0209', 'The Commission was not asked to apply itself as did the Hoover Commission in 1949,', 'The Commission was not asked to apply itself as did the Hoover Commission in nineteen forty-nine,']\n",
      "['LJ050-0003', \"By The President's Commission on the Assassination of President Kennedy. Chapter 8. The Protection of the President. Part 5.\", \"By The President's Commission on the Assassination of President Kennedy. Chapter eight. The Protection of the President. Part five.\"]\n",
      "['LJ050-0034', 'and the breach of regulations which occurred on the night of November 21 at Fort Worth.', 'and the breach of regulations which occurred on the night of November twenty-one at Fort Worth.']\n",
      "['LJ050-0050', 'As a result of these studies, the planning document submitted by the Secretary of the Treasury to the Bureau of the Budget on August 31,', 'As a result of these studies, the planning document submitted by the Secretary of the Treasury to the Bureau of the Budget on August thirty-one,']\n",
      "['LJ050-0051', '1964, makes several significant recommendations in this field.', 'nineteen sixty-four, makes several significant recommendations in this field.']\n",
      "['LJ050-0056', 'On December 26, 1963, the FBI circulated additional instructions to all its agents,', 'On December twenty-six, nineteen sixty-three, the FBI circulated additional instructions to all its agents,']\n",
      "['LJ050-0067', 'more than 5,000 names were referred to the Secret Service in the first 4 months of 1964.', 'more than five thousand names were referred to the Secret Service in the first four months of nineteen sixty-four.']\n",
      "['LJ050-0068', 'According to Chief Rowley, by mid-June 1964,', 'According to Chief Rowley, by mid-June nineteen sixty-four,']\n",
      "['LJ050-0069', 'the Secret Service had received from the FBI some 9,000 reports on members of the Communist Party.', 'the Secret Service had received from the FBI some nine thousand reports on members of the Communist Party.']\n",
      "['LJ050-0078', 'In June 1964, the Secret Service sent to a number of Federal law enforcement and intelligence agencies', 'In June nineteen sixty-four, the Secret Service sent to a number of Federal law enforcement and intelligence agencies']\n",
      "['LJ050-0093', \"because of Oswald's demonstrated hostility toward the Secretary of the Navy in his letter of January 30, 1962. Quote,\", \"because of Oswald's demonstrated hostility toward the Secretary of the Navy in his letter of January thirty, nineteen sixty-two. Quote,\"]\n",
      "['LJ050-0141', 'As a beginning step to improve liaison with local law enforcement officials, the Secret Service on August 26, 1964,', 'As a beginning step to improve liaison with local law enforcement officials, the Secret Service on August twenty-six, nineteen sixty-four,']\n",
      "['LJ050-0155', 'Also the Department requests the sum of $100,000 to conduct a detailed feasibility study;', 'Also the Department requests the sum of one hundred thousand dollars to conduct a detailed feasibility study;']\n",
      "['LJ050-0210', 'the caseload of each FBI agent averaged 20 to 25, and he felt that this was high.', 'the caseload of each FBI agent averaged twenty to twenty-five, and he felt that this was high.']\n",
      "['LJ050-0211', 'Chief Rowley testified that the present workload of each Secret Service agent averages 110.1 cases.', 'Chief Rowley testified that the present workload of each Secret Service agent averages one hundred ten point one cases.']\n",
      "['LJ050-0216', 'In its budget request for the fiscal year beginning July 1, 1964,', 'In its budget request for the fiscal year beginning July one, nineteen sixty-four,']\n",
      "['LJ050-0217', 'the Secret Service sought funds for 25 new positions, primarily in field offices. This increase has been approved by the Congress.', 'the Secret Service sought funds for twenty-five new positions, primarily in field offices. This increase has been approved by the Congress.']\n",
      "['LJ050-0219', 'However, the 1964 to 65 budget request was submitted in November 1963', 'However, the nineteen sixty-four to sixty-five budget request was submitted in November nineteen sixty-three']\n",
      "['LJ050-0222', 'would take approximately 20 months to implement and require expenditures of approximately $3,000,000 during that period.', 'would take approximately twenty months to implement and require expenditures of approximately three million dollars during that period.']\n",
      "['LJ050-0223', 'The plan provides for an additional 205 agents for the Secret Service. Seventeen of this number are proposed for the Protective Research Section;', 'The plan provides for an additional two hundred five agents for the Secret Service. Seventeen of this number are proposed for the Protective Research Section;']\n",
      "['LJ050-0224', '145 are proposed for the field offices to handle the increased volume of security investigations', 'one hundred forty-five are proposed for the field offices to handle the increased volume of security investigations']\n",
      "['LJ050-0226', '18 agents are proposed for a rotating pool which will go through an intensive training cycle and also be available to supplement the White House detail', 'eighteen agents are proposed for a rotating pool which will go through an intensive training cycle and also be available to supplement the White House detail']\n",
      "['LJ050-0227', 'in case of unexpected need; and 25 additional agents are recommended to provide the Vice President full protection.', 'in case of unexpected need; and twenty-five additional agents are recommended to provide the Vice President full protection.']\n",
      "['LJ050-0236', 'Thus, in the 4 months following the assassination,', 'Thus, in the four months following the assassination,']\n",
      "['LJ050-0237', 'the FBI, on 16 separate occasions, supplied a total of 139 agents to assist in protection work during a Presidential visit,', 'the FBI, on sixteen separate occasions, supplied a total of one hundred thirty-nine agents to assist in protection work during a Presidential visit,']\n",
      "['LJ050-0239', 'From February 11 through June 30, 1964,', 'From February eleven through June thirty, nineteen sixty-four,']\n",
      "['LJ050-0240', 'the Service had the advantage of 9,500 hours of work by other enforcement agencies.', 'the Service had the advantage of nine thousand, five hundred hours of work by other enforcement agencies.']\n",
      "['LJ050-0266', 'The exchange of letters dated August 31, 1964,', 'The exchange of letters dated August thirty-one, nineteen sixty-four,']\n",
      "1505\n"
     ]
    }
   ],
   "source": [
    "diff = 0\n",
    "for data in raw_list:\n",
    "    if len(data) != 3:\n",
    "        print(data)\n",
    "    if data[1] != data[2]:\n",
    "        diff += 1\n",
    "        print(data)\n",
    "\n",
    "print(diff)"
   ]
  },
  {
   "cell_type": "code",
   "execution_count": 66,
   "metadata": {},
   "outputs": [],
   "source": [
    "raw_dic = {key: value for key, _, value in raw_list}"
   ]
  },
  {
   "cell_type": "code",
   "execution_count": 68,
   "metadata": {},
   "outputs": [
    {
     "output_type": "execute_result",
     "data": {
      "text/plain": [
       "13100"
      ]
     },
     "metadata": {},
     "execution_count": 68
    }
   ],
   "source": [
    "len(raw_dic.values())"
   ]
  },
  {
   "cell_type": "code",
   "execution_count": 69,
   "metadata": {},
   "outputs": [
    {
     "output_type": "execute_result",
     "data": {
      "text/plain": [
       "'in early October of nineteen sixty-three.'"
      ]
     },
     "metadata": {},
     "execution_count": 69
    }
   ],
   "source": [
    "raw_dic['LJ047-0141']"
   ]
  },
  {
   "source": [],
   "cell_type": "markdown",
   "metadata": {}
  }
 ]
}