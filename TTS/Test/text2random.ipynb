{
 "metadata": {
  "language_info": {
   "codemirror_mode": {
    "name": "ipython",
    "version": 3
   },
   "file_extension": ".py",
   "mimetype": "text/x-python",
   "name": "python",
   "nbconvert_exporter": "python",
   "pygments_lexer": "ipython3",
   "version": "3.8.2"
  },
  "orig_nbformat": 2,
  "kernelspec": {
   "name": "python3",
   "display_name": "Python 3.8.2 64-bit"
  },
  "interpreter": {
   "hash": "1c3a1420ca3d798a1ca1e8c41a1dcdf8331a26568c33511621eba9412e127cb0"
  }
 },
 "nbformat": 4,
 "nbformat_minor": 2,
 "cells": [
  {
   "cell_type": "code",
   "execution_count": 1,
   "source": [
    "import torch\r\n",
    "import pandas as pd"
   ],
   "outputs": [],
   "metadata": {}
  },
  {
   "cell_type": "code",
   "execution_count": 2,
   "source": [
    "data_path = \"../Data/LJSpeech/\""
   ],
   "outputs": [],
   "metadata": {}
  },
  {
   "cell_type": "markdown",
   "source": [
    "The Code below is creating the key value pair for the file name to the text input. "
   ],
   "metadata": {}
  },
  {
   "cell_type": "code",
   "execution_count": 3,
   "source": [
    "raw_str = pd.read_csv(data_path + \"metadata.csv\", header=None, sep='\\n')"
   ],
   "outputs": [],
   "metadata": {}
  },
  {
   "cell_type": "code",
   "execution_count": 4,
   "source": [
    "raw_list = []\r\n",
    "for line in raw_str.iterrows():\r\n",
    "    raw_list.append(line[1].values[0].split(\"|\"))"
   ],
   "outputs": [],
   "metadata": {
    "tags": []
   }
  },
  {
   "cell_type": "code",
   "execution_count": 5,
   "source": [
    "len(raw_list)"
   ],
   "outputs": [
    {
     "output_type": "execute_result",
     "data": {
      "text/plain": [
       "13100"
      ]
     },
     "metadata": {},
     "execution_count": 5
    }
   ],
   "metadata": {}
  },
  {
   "cell_type": "markdown",
   "source": [
    "Each data has 3 elements, where most of the times the second and third elements are the same. But for some of them there are slightly difference where the numbers can be write down different ways. In our situations we are going to only using all English words. "
   ],
   "metadata": {}
  },
  {
   "cell_type": "code",
   "execution_count": 18,
   "source": [
    "diff = 0\r\n",
    "first = True\r\n",
    "for data in raw_list:\r\n",
    "    if data[1] != data[2]:\r\n",
    "        diff += 1\r\n",
    "        if first:\r\n",
    "            first = False\r\n",
    "            print(data)\r\n",
    "\r\n",
    "print(diff)"
   ],
   "outputs": [
    {
     "output_type": "stream",
     "name": "stdout",
     "text": [
      "['LJ001-0007', 'the earliest book printed with movable types, the Gutenberg, or \"forty-two line Bible\" of about 1455,', 'the earliest book printed with movable types, the Gutenberg, or \"forty-two line Bible\" of about fourteen fifty-five,']\n",
      "1505\n"
     ]
    }
   ],
   "metadata": {
    "tags": [
     "outputPrepend"
    ]
   }
  },
  {
   "cell_type": "code",
   "execution_count": 7,
   "source": [
    "raw_dic = {key: value for key, _, value in raw_list}"
   ],
   "outputs": [],
   "metadata": {}
  },
  {
   "cell_type": "code",
   "execution_count": 8,
   "source": [
    "len(raw_dic.values())"
   ],
   "outputs": [
    {
     "output_type": "execute_result",
     "data": {
      "text/plain": [
       "13100"
      ]
     },
     "metadata": {},
     "execution_count": 8
    }
   ],
   "metadata": {}
  },
  {
   "cell_type": "code",
   "execution_count": 9,
   "source": [
    "raw_dic['LJ047-0141']"
   ],
   "outputs": [
    {
     "output_type": "execute_result",
     "data": {
      "text/plain": [
       "'in early October of nineteen sixty-three.'"
      ]
     },
     "metadata": {},
     "execution_count": 9
    }
   ],
   "metadata": {}
  },
  {
   "cell_type": "markdown",
   "source": [
    "The above finished cleanning the csv data. And now we are going to start cleanning the wav file. "
   ],
   "metadata": {}
  },
  {
   "cell_type": "code",
   "execution_count": 10,
   "source": [
    "wav_folder_path = data_path + \"wavs/\""
   ],
   "outputs": [],
   "metadata": {}
  },
  {
   "cell_type": "code",
   "execution_count": 16,
   "source": [
    "from text_to_speech import speak\r\n",
    "\r\n",
    "speak(raw_dic['LJ047-0141'], 'en', save=True, file=\"./../Data/oct_1963.mp3\")\r\n"
   ],
   "outputs": [],
   "metadata": {}
  }
 ]
}